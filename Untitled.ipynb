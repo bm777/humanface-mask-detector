{
 "cells": [
  {
   "cell_type": "code",
   "execution_count": 47,
   "metadata": {},
   "outputs": [],
   "source": [
    "from tensorflow.keras.applications.mobilenet_v2 import preprocess_input\n",
    "from tensorflow.keras.preprocessing.image import img_to_array\n",
    "from tensorflow.keras.models import load_model\n",
    "import tensorflow\n",
    "import numpy as np\n",
    "import argparse\n",
    "import cv2\n",
    "import os\n"
   ]
  },
  {
   "cell_type": "code",
   "execution_count": 48,
   "metadata": {},
   "outputs": [],
   "source": [
    "pathImg = \"examples/other.jpg\"\n",
    "face = \"simple_face_detector\"\n",
    "model = \"mask_detector.model\"\n",
    "confidence = 0.5\n"
   ]
  },
  {
   "cell_type": "code",
   "execution_count": 49,
   "metadata": {},
   "outputs": [],
   "source": [
    "args = {'image': pathImg, 'face': face, 'model':model, 'confidence':confidence}"
   ]
  },
  {
   "cell_type": "code",
   "execution_count": 50,
   "metadata": {},
   "outputs": [],
   "source": [
    "def load():\n",
    "    proto = os.path.sep.join([args[\"face\"], \"deploy.prototxt\"])\n",
    "    weights = os.path.sep.join([args[\"face\"], \"res10_300x300_ssd_iter_140000.caffemodel\"])\n",
    "    net = cv2.dnn.readNet(proto, weights)\n",
    "\n",
    "    model = load_model(args[\"model\"])\n",
    "    return model, net"
   ]
  },
  {
   "cell_type": "code",
   "execution_count": 51,
   "metadata": {},
   "outputs": [],
   "source": [
    "def process(model, net):\n",
    "    image = cv2.imread(args[\"image\"])\n",
    "    print(\"the path of image is :{}\".format(args[\"image\"]))\n",
    "    origne = image.copy()\n",
    "    (h, w) = image.shape[:2]\n",
    "\n",
    "    blob = cv2.dnn.blobFromImage(image, 1.0, (300, 300),\n",
    "        (104.0, 177.0, 123.0))\n",
    "    net.setInput(blob)\n",
    "    detections = net.forward()\n",
    "    for i in range(0, detections.shape[2]):\n",
    "        confidence = detections[0, 0, i, 2]\n",
    "        if confidence > args[\"confidence\"]:\n",
    "            box = detections[0, 0, i, 3:7] * np.array([w,h,w,h])\n",
    "            (startX, startY, endX, endY) = box.astype(\"int\")\n",
    "\n",
    "            (startX, startY) = (max(0, startX), max(0, startY))\n",
    "            (endX, endY) = (min(w-1, endX), min(h-1, endY))\n",
    "\n",
    "\n",
    "            # extract face ROI, convert it to RGB channel\n",
    "            face = image[startY:endY, startX:endX]\n",
    "            face = cv2.cvtColor(face, cv2.COLOR_BGR2RGB)\n",
    "            face = cv2.resize(face, (224,224))\n",
    "            face = img_to_array(face)\n",
    "            face = preprocess_input(face)\n",
    "            face = np.expand_dims(face, axis=0)\n",
    "\n",
    "            #pass the face through the model to determince if the face has a mask or not\n",
    "            (mask, withoutMask) = model.predict(face)[0]\n",
    "\n",
    "            label = \"Mask\" if mask > withoutMask else \"No Mask\"\n",
    "            color = (0, 255, 0) if label == \"Mask\" else (0, 0, 255)\n",
    "\n",
    "            label = \"{}: {:.2f}%\".format(label, max(mask, withoutMask)*100)\n",
    "\n",
    "            cv2.putText(image, label, (startX, startY-10),\n",
    "                cv2.FONT_HERSHEY_SIMPLEX, 0.45, color, 2)\n",
    "            cv2.rectangle(image, (startX, startY), (endX, endY), color, 2)\n",
    "    cv2.imshow(\"Ouput\", image)\n",
    "\n",
    "    if cv2.waitKey(0) == ord('q'):\n",
    "        cv2.destroyAllWindows()"
   ]
  },
  {
   "cell_type": "code",
   "execution_count": 52,
   "metadata": {},
   "outputs": [
    {
     "name": "stdout",
     "output_type": "stream",
     "text": [
      "------------1\n",
      " - [x]: Load the model from disk... ->\n",
      " - [x]: Trying to predict ... ->\n",
      "the path of image is :examples/other.jpg\n"
     ]
    }
   ],
   "source": [
    "if __name__ == '__main__':\n",
    "\n",
    "    gpus = tensorflow.config.experimental.list_physical_devices('GPU')\n",
    "    print(\"------------\"+str(len(tensorflow.config.experimental.list_physical_devices('CPU'))))\n",
    "    if len(gpus) == 0:\n",
    "        gpu = tensorflow.config.experimental.list_physical_devices('CPU')\n",
    "    try:\n",
    "        tensorflow.config.experimental.set_virtual_device_configuration(gpus[0],\n",
    "        [tensorflow.config.experimental.VirtualDeviceConfiguration(memory_limit=2048)])\n",
    "\n",
    "        print(\" - [x]: Load the model from disk... ->\")\n",
    "        model, net = load()\n",
    "\n",
    "        print(\" - [x]: Trying to predict ... ->\")\n",
    "        process(model,  net)\n",
    "    except Exception as e:\n",
    "        raise e"
   ]
  }
 ],
 "metadata": {
  "kernelspec": {
   "display_name": "Python 3",
   "language": "python",
   "name": "python3"
  },
  "language_info": {
   "codemirror_mode": {
    "name": "ipython",
    "version": 3
   },
   "file_extension": ".py",
   "mimetype": "text/x-python",
   "name": "python",
   "nbconvert_exporter": "python",
   "pygments_lexer": "ipython3",
   "version": "3.6.9"
  }
 },
 "nbformat": 4,
 "nbformat_minor": 4
}
